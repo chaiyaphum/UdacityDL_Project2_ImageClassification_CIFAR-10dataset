{
 "cells": [
  {
   "cell_type": "markdown",
   "metadata": {
    "collapsed": true
   },
   "source": [
    "# Image Classification\n",
    "In this project, you'll classify images from the [CIFAR-10 dataset](https://www.cs.toronto.edu/~kriz/cifar.html).  The dataset consists of airplanes, dogs, cats, and other objects. You'll preprocess the images, then train a convolutional neural network on all the samples. The images need to be normalized and the labels need to be one-hot encoded.  You'll get to apply what you learned and build a convolutional, max pooling, dropout, and fully connected layers.  At the end, you'll get to see your neural network's predictions on the sample images.\n",
    "## Get the Data\n",
    "Run the following cell to download the [CIFAR-10 dataset for python](https://www.cs.toronto.edu/~kriz/cifar-10-python.tar.gz)."
   ]
  },
  {
   "cell_type": "code",
   "execution_count": 1,
   "metadata": {
    "collapsed": false
   },
   "outputs": [
    {
     "name": "stderr",
     "output_type": "stream",
     "text": [
      "CIFAR-10 Dataset: 171MB [01:27, 1.95MB/s]                                      \n"
     ]
    },
    {
     "name": "stdout",
     "output_type": "stream",
     "text": [
      "All files found!\n"
     ]
    }
   ],
   "source": [
    "\"\"\"\n",
    "DON'T MODIFY ANYTHING IN THIS CELL THAT IS BELOW THIS LINE\n",
    "\"\"\"\n",
    "from urllib.request import urlretrieve\n",
    "from os.path import isfile, isdir\n",
    "from tqdm import tqdm\n",
    "import problem_unittests as tests\n",
    "import tarfile\n",
    "\n",
    "cifar10_dataset_folder_path = 'cifar-10-batches-py'\n",
    "\n",
    "class DLProgress(tqdm):\n",
    "    last_block = 0\n",
    "\n",
    "    def hook(self, block_num=1, block_size=1, total_size=None):\n",
    "        self.total = total_size\n",
    "        self.update((block_num - self.last_block) * block_size)\n",
    "        self.last_block = block_num\n",
    "\n",
    "if not isfile('cifar-10-python.tar.gz'):\n",
    "    with DLProgress(unit='B', unit_scale=True, miniters=1, desc='CIFAR-10 Dataset') as pbar:\n",
    "        urlretrieve(\n",
    "            'https://www.cs.toronto.edu/~kriz/cifar-10-python.tar.gz',\n",
    "            'cifar-10-python.tar.gz',\n",
    "            pbar.hook)\n",
    "\n",
    "if not isdir(cifar10_dataset_folder_path):\n",
    "    with tarfile.open('cifar-10-python.tar.gz') as tar:\n",
    "        tar.extractall()\n",
    "        tar.close()\n",
    "\n",
    "\n",
    "tests.test_folder_path(cifar10_dataset_folder_path)"
   ]
  },
  {
   "cell_type": "markdown",
   "metadata": {},
   "source": [
    "## Explore the Data\n",
    "The dataset is broken into batches to prevent your machine from running out of memory.  The CIFAR-10 dataset consists of 5 batches, named `data_batch_1`, `data_batch_2`, etc.. Each batch contains the labels and images that are one of the following:\n",
    "* airplane\n",
    "* automobile\n",
    "* bird\n",
    "* cat\n",
    "* deer\n",
    "* dog\n",
    "* frog\n",
    "* horse\n",
    "* ship\n",
    "* truck\n",
    "\n",
    "Understanding a dataset is part of making predictions on the data.  Play around with the code cell below by changing the `batch_id` and `sample_id`. The `batch_id` is the id for a batch (1-5). The `sample_id` is the id for a image and label pair in the batch.\n",
    "\n",
    "Ask yourself \"What are all possible labels?\", \"What is the range of values for the image data?\", \"Are the labels in order or random?\".  Answers to questions like these will help you preprocess the data and end up with better predictions."
   ]
  },
  {
   "cell_type": "code",
   "execution_count": 2,
   "metadata": {
    "collapsed": false
   },
   "outputs": [
    {
     "name": "stdout",
     "output_type": "stream",
     "text": [
      "\n",
      "Stats of batch 1:\n",
      "Samples: 10000\n",
      "Label Counts: {0: 1005, 1: 974, 2: 1032, 3: 1016, 4: 999, 5: 937, 6: 1030, 7: 1001, 8: 1025, 9: 981}\n",
      "First 20 Labels: [6, 9, 9, 4, 1, 1, 2, 7, 8, 3, 4, 7, 7, 2, 9, 9, 9, 3, 2, 6]\n",
      "\n",
      "Example of Image 5:\n",
      "Image - Min Value: 0 Max Value: 252\n",
      "Image - Shape: (32, 32, 3)\n",
      "Label - Label Id: 1 Name: automobile\n"
     ]
    },
    {
     "data": {
      "image/png": "[encoded data removed]",
      "text/plain": [
       "<matplotlib.figure.Figure at 0x3edf7962e8>"
      ]
     },
     "metadata": {
      "image/png": {
       "height": 250,
       "width": 253
      }
     },
     "output_type": "display_data"
    }
   ],
   "source": [
    "%matplotlib inline\n",
    "%config InlineBackend.figure_format = 'retina'\n",
    "\n",
    "import helper\n",
    "import numpy as np\n",
    "\n",
    "# Explore the dataset\n",
    "batch_id = 1\n",
    "sample_id = 5\n",
    "helper.display_stats(cifar10_dataset_folder_path, batch_id, sample_id)"
   ]
  },
  {
   "cell_type": "markdown",
   "metadata": {},
   "source": [
    "## Implement Preprocess Functions\n",
    "### Normalize\n",
    "In the cell below, implement the `normalize` function to take in image data, `x`, and return it as a normalized Numpy array. The values should be in the range of 0 to 1, inclusive.  The return object should be the same shape as `x`."
   ]
  },
  {
   "cell_type": "code",
   "execution_count": 4,
   "metadata": {
    "collapsed": false
   },
   "outputs": [
    {
     "name": "stdout",
     "output_type": "stream",
     "text": [
      "Tests Passed\n"
     ]
    }
   ],
   "source": [
    "def normalize(x):\n",
    "    \"\"\"\n",
    "    Normalize a list of sample image data in the range of 0 to 1\n",
    "    : x: List of image data.  The image shape is (32, 32, 3)\n",
    "    : return: Numpy array of normalize data\n",
    "    \"\"\"\n",
    "    # TODO: Implement Function\n",
    "    _min = np.min(x)\n",
    "    _max = np.max(x)\n",
    "    \n",
    "    return (x - _min)/(_max - _min)\n",
    "\n",
    "\n",
    "\"\"\"\n",
    "DON'T MODIFY ANYTHING IN THIS CELL THAT IS BELOW THIS LINE\n",
    "\"\"\"\n",
    "tests.test_normalize(normalize)"
   ]
  },
  {
   "cell_type": "markdown",
   "metadata": {},
   "source": [
    "### One-hot encode\n",
    "Just like the previous code cell, you'll be implementing a function for preprocessing.  This time, you'll implement the `one_hot_encode` function. The input, `x`, are a list of labels.  Implement the function to return the list of labels as One-Hot encoded Numpy array.  The possible values for labels are 0 to 9. The one-hot encoding function should return the same encoding for each value between each call to `one_hot_encode`.  Make sure to save the map of encodings outside the function.\n",
    "\n",
    "Hint: Don't reinvent the wheel."
   ]
  },
  {
   "cell_type": "code",
   "execution_count": 5,
   "metadata": {
    "collapsed": false
   },
   "outputs": [
    {
     "name": "stdout",
     "output_type": "stream",
     "text": [
      "Tests Passed\n"
     ]
    }
   ],
   "source": [
    "def one_hot_encode(x):\n",
    "    \"\"\"\n",
    "    One hot encode a list of sample labels. Return a one-hot encoded vector for each label.\n",
    "    : x: List of sample Labels\n",
    "    : return: Numpy array of one-hot encoded labels\n",
    "    \"\"\"\n",
    "    # TODO: Implement Function\n",
    "    \n",
    "    return np.eye(10)[x]\n",
    "\n",
    "\n",
    "\"\"\"\n",
    "DON'T MODIFY ANYTHING IN THIS CELL THAT IS BELOW THIS LINE\n",
    "\"\"\"\n",
    "tests.test_one_hot_encode(one_hot_encode)"
   ]
  },
  {
   "cell_type": "markdown",
   "metadata": {},
   "source": [
    "### Randomize Data\n",
    "As you saw from exploring the data above, the order of the samples are randomized.  It doesn't hurt to randomize it again, but you don't need to for this dataset."
   ]
  },
  {
   "cell_type": "markdown",
   "metadata": {},
   "source": [
    "## Preprocess all the data and save it\n",
    "Running the code cell below will preprocess all the CIFAR-10 data and save it to file. The code below also uses 10% of the training data for validation."
   ]
  },
  {
   "cell_type": "code",
   "execution_count": 6,
   "metadata": {
    "collapsed": false
   },
   "outputs": [],
   "source": [
    "\"\"\"\n",
    "DON'T MODIFY ANYTHING IN THIS CELL\n",
    "\"\"\"\n",
    "# Preprocess Training, Validation, and Testing Data\n",
    "helper.preprocess_and_save_data(cifar10_dataset_folder_path, normalize, one_hot_encode)"
   ]
  },
  {
   "cell_type": "markdown",
   "metadata": {},
   "source": [
    "# Check Point\n",
    "This is your first checkpoint.  If you ever decide to come back to this notebook or have to restart the notebook, you can start from here.  The preprocessed data has been saved to disk."
   ]
  },
  {
   "cell_type": "code",
   "execution_count": 7,
   "metadata": {
    "collapsed": true
   },
   "outputs": [],
   "source": [
    "\"\"\"\n",
    "DON'T MODIFY ANYTHING IN THIS CELL\n",
    "\"\"\"\n",
    "import pickle\n",
    "import problem_unittests as tests\n",
    "import helper\n",
    "\n",
    "# Load the Preprocessed Validation data\n",
    "valid_features, valid_labels = pickle.load(open('preprocess_validation.p', mode='rb'))"
   ]
  },
  {
   "cell_type": "markdown",
   "metadata": {},
   "source": [
    "## Build the network\n",
    "For the neural network, you'll build each layer into a function.  Most of the code you've seen has been outside of functions. To test your code more thoroughly, we require that you put each layer in a function.  This allows us to give you better feedback and test for simple mistakes using our unittests before you submit your project.\n",
    "\n",
    ">**Note:** If you're finding it hard to dedicate enough time for this course each week, we've provided a small shortcut to this part of the project. In the next couple of problems, you'll have the option to use classes from the [TensorFlow Layers](https://www.tensorflow.org/api_docs/python/tf/layers) or [TensorFlow Layers (contrib)](https://www.tensorflow.org/api_guides/python/contrib.layers) packages to build each layer, except the layers you build in the \"Convolutional and Max Pooling Layer\" section.  TF Layers is similar to Keras's and TFLearn's abstraction to layers, so it's easy to pickup.\n",
    "\n",
    ">However, if you would like to get the most out of this course, try to solve all the problems _without_ using anything from the TF Layers packages. You **can** still use classes from other packages that happen to have the same name as ones you find in TF Layers! For example, instead of using the TF Layers version of the `conv2d` class, [tf.layers.conv2d](https://www.tensorflow.org/api_docs/python/tf/layers/conv2d), you would want to use the TF Neural Network version of `conv2d`, [tf.nn.conv2d](https://www.tensorflow.org/api_docs/python/tf/nn/conv2d). \n",
    "\n",
    "Let's begin!\n",
    "\n",
    "### Input\n",
    "The neural network needs to read the image data, one-hot encoded labels, and dropout keep probability. Implement the following functions\n",
    "* Implement `neural_net_image_input`\n",
    " * Return a [TF Placeholder](https://www.tensorflow.org/api_docs/python/tf/placeholder)\n",
    " * Set the shape using `image_shape` with batch size set to `None`.\n",
    " * Name the TensorFlow placeholder \"x\" using the TensorFlow `name` parameter in the [TF Placeholder](https://www.tensorflow.org/api_docs/python/tf/placeholder).\n",
    "* Implement `neural_net_label_input`\n",
    " * Return a [TF Placeholder](https://www.tensorflow.org/api_docs/python/tf/placeholder)\n",
    " * Set the shape using `n_classes` with batch size set to `None`.\n",
    " * Name the TensorFlow placeholder \"y\" using the TensorFlow `name` parameter in the [TF Placeholder](https://www.tensorflow.org/api_docs/python/tf/placeholder).\n",
    "* Implement `neural_net_keep_prob_input`\n",
    " * Return a [TF Placeholder](https://www.tensorflow.org/api_docs/python/tf/placeholder) for dropout keep probability.\n",
    " * Name the TensorFlow placeholder \"keep_prob\" using the TensorFlow `name` parameter in the [TF Placeholder](https://www.tensorflow.org/api_docs/python/tf/placeholder).\n",
    "\n",
    "These names will be used at the end of the project to load your saved model.\n",
    "\n",
    "Note: `None` for shapes in TensorFlow allow for a dynamic size."
   ]
  },
  {
   "cell_type": "code",
   "execution_count": 8,
   "metadata": {
    "collapsed": false
   },
   "outputs": [
    {
     "name": "stdout",
     "output_type": "stream",
     "text": [
      "Image Input Tests Passed.\n",
      "Label Input Tests Passed.\n",
      "Keep Prob Tests Passed.\n"
     ]
    }
   ],
   "source": [
    "import tensorflow as tf\n",
    "\n",
    "def neural_net_image_input(image_shape):\n",
    "    \"\"\"\n",
    "    Return a Tensor for a bach of image input\n",
    "    : image_shape: Shape of the images\n",
    "    : return: Tensor for image input.\n",
    "    \"\"\"\n",
    "    # TODO: Implement Function\n",
    "    \n",
    "    return tf.placeholder(tf.float32, [None, *image_shape], name='x')\n",
    "\n",
    "\n",
    "def neural_net_label_input(n_classes):\n",
    "    \"\"\"\n",
    "    Return a Tensor for a batch of label input\n",
    "    : n_classes: Number of classes\n",
    "    : return: Tensor for label input.\n",
    "    \"\"\"\n",
    "    # TODO: Implement Function\n",
    "    \n",
    "    return tf.placeholder(tf.float32, [None, n_classes], name='y')\n",
    "\n",
    "\n",
    "def neural_net_keep_prob_input():\n",
    "    \"\"\"\n",
    "    Return a Tensor for keep probability\n",
    "    : return: Tensor for keep probability.\n",
    "    \"\"\"\n",
    "    # TODO: Implement Function\n",
    "    \n",
    "    return tf.placeholder(tf.float32, name='keep_prob')\n",
    "\n",
    "\n",
    "\"\"\"\n",
    "DON'T MODIFY ANYTHING IN THIS CELL THAT IS BELOW THIS LINE\n",
    "\"\"\"\n",
    "tf.reset_default_graph()\n",
    "tests.test_nn_image_inputs(neural_net_image_input)\n",
    "tests.test_nn_label_inputs(neural_net_label_input)\n",
    "tests.test_nn_keep_prob_inputs(neural_net_keep_prob_input)"
   ]
  },
  {
   "cell_type": "markdown",
   "metadata": {},
   "source": [
    "### Convolution and Max Pooling Layer\n",
    "Convolution layers have a lot of success with images. For this code cell, you should implement the function `conv2d_maxpool` to apply convolution then max pooling:\n",
    "* Create the weight and bias using `conv_ksize`, `conv_num_outputs` and the shape of `x_tensor`.\n",
    "* Apply a convolution to `x_tensor` using weight and `conv_strides`.\n",
    " * We recommend you use same padding, but you're welcome to use any padding.\n",
    "* Add bias\n",
    "* Add a nonlinear activation to the convolution.\n",
    "* Apply Max Pooling using `pool_ksize` and `pool_strides`.\n",
    " * We recommend you use same padding, but you're welcome to use any padding.\n",
    "\n",
    "**Note:** You **can't** use [TensorFlow Layers](https://www.tensorflow.org/api_docs/python/tf/layers) or [TensorFlow Layers (contrib)](https://www.tensorflow.org/api_guides/python/contrib.layers) for **this** layer, but you can still use TensorFlow's [Neural Network](https://www.tensorflow.org/api_docs/python/tf/nn) package. You may still use the shortcut option for all the **other** layers."
   ]
  },
  {
   "cell_type": "code",
   "execution_count": 9,
   "metadata": {
    "collapsed": false
   },
   "outputs": [
    {
     "name": "stdout",
     "output_type": "stream",
     "text": [
      "Tests Passed\n"
     ]
    }
   ],
   "source": [
    "def conv2d_maxpool(x_tensor, conv_num_outputs, conv_ksize, conv_strides, pool_ksize, pool_strides):\n",
    "    \"\"\"\n",
    "    Apply convolution then max pooling to x_tensor\n",
    "    :param x_tensor: TensorFlow Tensor\n",
    "    :param conv_num_outputs: Number of outputs for the convolutional layer\n",
    "    :param conv_ksize: kernal size 2-D Tuple for the convolutional layer\n",
    "    :param conv_strides: Stride 2-D Tuple for convolution\n",
    "    :param pool_ksize: kernal size 2-D Tuple for pool\n",
    "    :param pool_strides: Stride 2-D Tuple for pool\n",
    "    : return: A tensor that represents convolution and max pooling of x_tensor\n",
    "    \"\"\"\n",
    "    # TODO: Implement Function\n",
    "    in_depth = int(x_tensor.shape[3])\n",
    "    out_depth = conv_num_outputs\n",
    "    w_shape = [*conv_ksize, in_depth, out_depth]\n",
    "    \n",
    "    w = tf.Variable(tf.random_normal(w_shape, stddev=0.1))\n",
    "    b = tf.Variable(tf.zeros(out_depth))\n",
    "    \n",
    "    conv_strides = [1, *conv_strides, 1]\n",
    "    x_cov = tf.nn.conv2d(x_tensor, w, strides=conv_strides, padding='SAME')\n",
    "    \n",
    "    x_cov = tf.nn.bias_add(x_cov, b)\n",
    "    x_cov = tf.nn.relu(x_cov)\n",
    "    \n",
    "    pool_ksize = [1, *pool_ksize, 1]\n",
    "    pool_strides = [1, *pool_strides, 1]\n",
    "    x_cov_pool = tf.nn.max_pool(x_cov, pool_ksize, pool_strides, padding='SAME')\n",
    "    \n",
    "    return x_cov_pool\n",
    "\n",
    "\n",
    "\"\"\"\n",
    "DON'T MODIFY ANYTHING IN THIS CELL THAT IS BELOW THIS LINE\n",
    "\"\"\"\n",
    "tests.test_con_pool(conv2d_maxpool)"
   ]
  },
  {
   "cell_type": "markdown",
   "metadata": {},
   "source": [
    "### Flatten Layer\n",
    "Implement the `flatten` function to change the dimension of `x_tensor` from a 4-D tensor to a 2-D tensor.  The output should be the shape (*Batch Size*, *Flattened Image Size*). Shortcut option: you can use classes from the [TensorFlow Layers](https://www.tensorflow.org/api_docs/python/tf/layers) or [TensorFlow Layers (contrib)](https://www.tensorflow.org/api_guides/python/contrib.layers) packages for this layer. For more of a challenge, only use other TensorFlow packages."
   ]
  },
  {
   "cell_type": "code",
   "execution_count": 11,
   "metadata": {
    "collapsed": false
   },
   "outputs": [
    {
     "name": "stdout",
     "output_type": "stream",
     "text": [
      "Tests Passed\n"
     ]
    }
   ],
   "source": [
    "def flatten(x_tensor):\n",
    "    \"\"\"\n",
    "    Flatten x_tensor to (Batch Size, Flattened Image Size)\n",
    "    : x_tensor: A tensor of size (Batch Size, ...), where ... are the image dimensions.\n",
    "    : return: A tensor of size (Batch Size, Flattened Image Size).\n",
    "    \"\"\"\n",
    "    # TODO: Implement Function\n",
    "    batch_size, *img_size = x_tensor.get_shape().as_list()\n",
    "    img_size = img_size[0] * img_size[1] * img_size[2]\n",
    "    \n",
    "    return tf.reshape(x_tensor, [-1, img_size])\n",
    "\n",
    "\n",
    "\"\"\"\n",
    "DON'T MODIFY ANYTHING IN THIS CELL THAT IS BELOW THIS LINE\n",
    "\"\"\"\n",
    "tests.test_flatten(flatten)"
   ]
  },
  {
   "cell_type": "markdown",
   "metadata": {},
   "source": [
    "### Fully-Connected Layer\n",
    "Implement the `fully_conn` function to apply a fully connected layer to `x_tensor` with the shape (*Batch Size*, *num_outputs*). Shortcut option: you can use classes from the [TensorFlow Layers](https://www.tensorflow.org/api_docs/python/tf/layers) or [TensorFlow Layers (contrib)](https://www.tensorflow.org/api_guides/python/contrib.layers) packages for this layer. For more of a challenge, only use other TensorFlow packages."
   ]
  },
  {
   "cell_type": "code",
   "execution_count": 12,
   "metadata": {
    "collapsed": false
   },
   "outputs": [
    {
     "name": "stdout",
     "output_type": "stream",
     "text": [
      "Tests Passed\n"
     ]
    }
   ],
   "source": [
    "def fully_conn(x_tensor, num_outputs):\n",
    "    \"\"\"\n",
    "    Apply a fully connected layer to x_tensor using weight and bias\n",
    "    : x_tensor: A 2-D tensor where the first dimension is batch size.\n",
    "    : num_outputs: The number of output that the new tensor should be.\n",
    "    : return: A 2-D tensor where the second dimension is num_outputs.\n",
    "    \"\"\"\n",
    "    # TODO: Implement Function\n",
    "    w_shape = (int(x_tensor.get_shape().as_list()[1]), num_outputs)\n",
    "    w = tf.Variable(tf.random_normal(w_shape, stddev=0.1))\n",
    "    b = tf.Variable(tf.zeros(num_outputs))\n",
    "    \n",
    "    x = tf.add(tf.matmul(x_tensor, w), b)\n",
    "    x = tf.nn.relu(x)\n",
    "    \n",
    "    return x\n",
    "\n",
    "\n",
    "\"\"\"\n",
    "DON'T MODIFY ANYTHING IN THIS CELL THAT IS BELOW THIS LINE\n",
    "\"\"\"\n",
    "tests.test_fully_conn(fully_conn)"
   ]
  },
  {
   "cell_type": "markdown",
   "metadata": {},
   "source": [
    "### Output Layer\n",
    "Implement the `output` function to apply a fully connected layer to `x_tensor` with the shape (*Batch Size*, *num_outputs*). Shortcut option: you can use classes from the [TensorFlow Layers](https://www.tensorflow.org/api_docs/python/tf/layers) or [TensorFlow Layers (contrib)](https://www.tensorflow.org/api_guides/python/contrib.layers) packages for this layer. For more of a challenge, only use other TensorFlow packages.\n",
    "\n",
    "**Note:** Activation, softmax, or cross entropy should **not** be applied to this."
   ]
  },
  {
   "cell_type": "code",
   "execution_count": 13,
   "metadata": {
    "collapsed": false
   },
   "outputs": [
    {
     "name": "stdout",
     "output_type": "stream",
     "text": [
      "Tests Passed\n"
     ]
    }
   ],
   "source": [
    "def output(x_tensor, num_outputs):\n",
    "    \"\"\"\n",
    "    Apply a output layer to x_tensor using weight and bias\n",
    "    : x_tensor: A 2-D tensor where the first dimension is batch size.\n",
    "    : num_outputs: The number of output that the new tensor should be.\n",
    "    : return: A 2-D tensor where the second dimension is num_outputs.\n",
    "    \"\"\"\n",
    "    # TODO: Implement Function\n",
    "    \n",
    "    w_shape = [int(x_tensor.get_shape().as_list()[1]), num_outputs]\n",
    "    w = tf.Variable(tf.random_normal(w_shape, stddev=0.1))\n",
    "    b = tf.Variable(tf.zeros(num_outputs))\n",
    "    x = tf.add(tf.matmul(x_tensor, w), b)\n",
    "    \n",
    "    return x\n",
    "\n",
    "\n",
    "\"\"\"\n",
    "DON'T MODIFY ANYTHING IN THIS CELL THAT IS BELOW THIS LINE\n",
    "\"\"\"\n",
    "tests.test_output(output)"
   ]
  },
  {
   "cell_type": "markdown",
   "metadata": {},
   "source": [
    "### Create Convolutional Model\n",
    "Implement the function `conv_net` to create a convolutional neural network model. The function takes in a batch of images, `x`, and outputs logits.  Use the layers you created above to create this model:\n",
    "\n",
    "* Apply 1, 2, or 3 Convolution and Max Pool layers\n",
    "* Apply a Flatten Layer\n",
    "* Apply 1, 2, or 3 Fully Connected Layers\n",
    "* Apply an Output Layer\n",
    "* Return the output\n",
    "* Apply [TensorFlow's Dropout](https://www.tensorflow.org/api_docs/python/tf/nn/dropout) to one or more layers in the model using `keep_prob`. "
   ]
  },
  {
   "cell_type": "code",
   "execution_count": 22,
   "metadata": {
    "collapsed": false
   },
   "outputs": [
    {
     "name": "stdout",
     "output_type": "stream",
     "text": [
      "Neural Network Built!\n"
     ]
    }
   ],
   "source": [
    "def conv_net(x, keep_prob):\n",
    "    \"\"\"\n",
    "    Create a convolutional neural network model\n",
    "    : x: Placeholder tensor that holds image data.\n",
    "    : keep_prob: Placeholder tensor that hold dropout keep probability.\n",
    "    : return: Tensor that represents logits\n",
    "    \"\"\"\n",
    "    # TODO: Apply 1, 2, or 3 Convolution and Max Pool layers\n",
    "    #    Play around with different number of outputs, kernel size and stride\n",
    "    # Function Definition from Above:\n",
    "    #    conv2d_maxpool(x_tensor, conv_num_outputs, conv_ksize, conv_strides, pool_ksize, pool_strides)\n",
    "    \n",
    "    x = conv2d_maxpool(x, 16, (5, 5), (1, 1), (2, 2), (2, 2))\n",
    "    x = conv2d_maxpool(x, 20, (5, 5), (1, 1), (2, 2), (2, 2))\n",
    "    x = conv2d_maxpool(x, 20, (5, 5), (1, 1), (2, 2), (2, 2))\n",
    "\n",
    "    # TODO: Apply a Flatten Layer\n",
    "    # Function Definition from Above:\n",
    "    #   flatten(x_tensor)\n",
    "    x = flatten(x)\n",
    "\n",
    "    # TODO: Apply 1, 2, or 3 Fully Connected Layers\n",
    "    #    Play around with different number of outputs\n",
    "    # Function Definition from Above:\n",
    "    #   fully_conn(x_tensor, num_outputs)\n",
    "    x = fully_conn(x, 512)\n",
    "    x = tf.nn.dropout(x, keep_prob)\n",
    "    x = fully_conn(x, 128)\n",
    "    x = tf.nn.dropout(x, keep_prob)\n",
    "    \n",
    "    # TODO: Apply an Output Layer\n",
    "    #    Set this to the number of classes\n",
    "    # Function Definition from Above:\n",
    "    #   output(x_tensor, num_outputs)\n",
    "    out = output(x, 10)\n",
    "    \n",
    "    # TODO: return output\n",
    "    \n",
    "    return out\n",
    "\n",
    "\n",
    "\"\"\"\n",
    "DON'T MODIFY ANYTHING IN THIS CELL THAT IS BELOW THIS LINE\n",
    "\"\"\"\n",
    "\n",
    "##############################\n",
    "## Build the Neural Network ##\n",
    "##############################\n",
    "\n",
    "# Remove previous weights, bias, inputs, etc..\n",
    "tf.reset_default_graph()\n",
    "\n",
    "# Inputs\n",
    "x = neural_net_image_input((32, 32, 3))\n",
    "y = neural_net_label_input(10)\n",
    "keep_prob = neural_net_keep_prob_input()\n",
    "\n",
    "# Model\n",
    "logits = conv_net(x, keep_prob)\n",
    "\n",
    "# Name logits Tensor, so that is can be loaded from disk after training\n",
    "logits = tf.identity(logits, name='logits')\n",
    "\n",
    "# Loss and Optimizer\n",
    "cost = tf.reduce_mean(tf.nn.softmax_cross_entropy_with_logits(logits=logits, labels=y))\n",
    "optimizer = tf.train.AdamOptimizer().minimize(cost)\n",
    "\n",
    "# Accuracy\n",
    "correct_pred = tf.equal(tf.argmax(logits, 1), tf.argmax(y, 1))\n",
    "accuracy = tf.reduce_mean(tf.cast(correct_pred, tf.float32), name='accuracy')\n",
    "\n",
    "tests.test_conv_net(conv_net)"
   ]
  },
  {
   "cell_type": "markdown",
   "metadata": {},
   "source": [
    "## Train the Neural Network\n",
    "### Single Optimization\n",
    "Implement the function `train_neural_network` to do a single optimization.  The optimization should use `optimizer` to optimize in `session` with a `feed_dict` of the following:\n",
    "* `x` for image input\n",
    "* `y` for labels\n",
    "* `keep_prob` for keep probability for dropout\n",
    "\n",
    "This function will be called for each batch, so `tf.global_variables_initializer()` has already been called.\n",
    "\n",
    "Note: Nothing needs to be returned. This function is only optimizing the neural network."
   ]
  },
  {
   "cell_type": "code",
   "execution_count": 23,
   "metadata": {
    "collapsed": false
   },
   "outputs": [
    {
     "name": "stdout",
     "output_type": "stream",
     "text": [
      "Tests Passed\n"
     ]
    }
   ],
   "source": [
    "def train_neural_network(session, optimizer, keep_probability, feature_batch, label_batch):\n",
    "    \"\"\"\n",
    "    Optimize the session on a batch of images and labels\n",
    "    : session: Current TensorFlow session\n",
    "    : optimizer: TensorFlow optimizer function\n",
    "    : keep_probability: keep probability\n",
    "    : feature_batch: Batch of Numpy image data\n",
    "    : label_batch: Batch of Numpy label data\n",
    "    \"\"\"\n",
    "    # TODO: Implement Function\n",
    "    session.run(optimizer, feed_dict={\n",
    "        x: feature_batch,\n",
    "        y: label_batch,\n",
    "        keep_prob: keep_probability\n",
    "    })\n",
    "\n",
    "\n",
    "\"\"\"\n",
    "DON'T MODIFY ANYTHING IN THIS CELL THAT IS BELOW THIS LINE\n",
    "\"\"\"\n",
    "tests.test_train_nn(train_neural_network)"
   ]
  },
  {
   "cell_type": "markdown",
   "metadata": {},
   "source": [
    "### Show Stats\n",
    "Implement the function `print_stats` to print loss and validation accuracy.  Use the global variables `valid_features` and `valid_labels` to calculate validation accuracy.  Use a keep probability of `1.0` to calculate the loss and validation accuracy."
   ]
  },
  {
   "cell_type": "code",
   "execution_count": 24,
   "metadata": {
    "collapsed": false
   },
   "outputs": [],
   "source": [
    "def print_stats(session, feature_batch, label_batch, cost, accuracy):\n",
    "    \"\"\"\n",
    "    Print information about loss and validation accuracy\n",
    "    : session: Current TensorFlow session\n",
    "    : feature_batch: Batch of Numpy image data\n",
    "    : label_batch: Batch of Numpy label data\n",
    "    : cost: TensorFlow cost function\n",
    "    : accuracy: TensorFlow accuracy function\n",
    "    \"\"\"\n",
    "    # TODO: Implement Function\n",
    "    loss = session.run(cost, feed_dict={\n",
    "        x: feature_batch,\n",
    "        y: label_batch,\n",
    "        keep_prob: 1.\n",
    "    })\n",
    "    \n",
    "    valid_accuracy = session.run(accuracy, feed_dict={\n",
    "        x: valid_features,\n",
    "        y: valid_labels,\n",
    "        keep_prob: 1.\n",
    "    })\n",
    "    \n",
    "    print('Loss: {:>10.4f} Validation Accuracy: {:.4f}'.format(loss, valid_accuracy))"
   ]
  },
  {
   "cell_type": "markdown",
   "metadata": {},
   "source": [
    "### Hyperparameters\n",
    "Tune the following parameters:\n",
    "* Set `epochs` to the number of iterations until the network stops learning or start overfitting\n",
    "* Set `batch_size` to the highest number that your machine has memory for.  Most people set them to common sizes of memory:\n",
    " * 64\n",
    " * 128\n",
    " * 256\n",
    " * ...\n",
    "* Set `keep_probability` to the probability of keeping a node using dropout"
   ]
  },
  {
   "cell_type": "code",
   "execution_count": 25,
   "metadata": {
    "collapsed": true
   },
   "outputs": [],
   "source": [
    "# TODO: Tune Parameters\n",
    "epochs = 50\n",
    "batch_size = 128\n",
    "keep_probability = 0.5"
   ]
  },
  {
   "cell_type": "markdown",
   "metadata": {},
   "source": [
    "### Train on a Single CIFAR-10 Batch\n",
    "Instead of training the neural network on all the CIFAR-10 batches of data, let's use a single batch. This should save time while you iterate on the model to get a better accuracy.  Once the final validation accuracy is 50% or greater, run the model on all the data in the next section."
   ]
  },
  {
   "cell_type": "code",
   "execution_count": null,
   "metadata": {
    "collapsed": false
   },
   "outputs": [
    {
     "name": "stdout",
     "output_type": "stream",
     "text": [
      "Checking the Training on a Single Batch...\n",
      "Epoch  1, CIFAR-10 Batch 1:  Loss:     2.1867 Validation Accuracy: 0.1960\n",
      "Epoch  2, CIFAR-10 Batch 1:  Loss:     2.0982 Validation Accuracy: 0.3116\n",
      "Epoch  3, CIFAR-10 Batch 1:  Loss:     1.9326 Validation Accuracy: 0.3804\n",
      "Epoch  4, CIFAR-10 Batch 1:  Loss:     1.8025 Validation Accuracy: 0.3950\n",
      "Epoch  5, CIFAR-10 Batch 1:  Loss:     1.6751 Validation Accuracy: 0.4244\n",
      "Epoch  6, CIFAR-10 Batch 1:  Loss:     1.5680 Validation Accuracy: 0.4266\n",
      "Epoch  7, CIFAR-10 Batch 1:  Loss:     1.4307 Validation Accuracy: 0.4490\n",
      "Epoch  8, CIFAR-10 Batch 1:  Loss:     1.3431 Validation Accuracy: 0.4624\n",
      "Epoch  9, CIFAR-10 Batch 1:  Loss:     1.2246 Validation Accuracy: 0.4824\n",
      "Epoch 10, CIFAR-10 Batch 1:  Loss:     1.1137 Validation Accuracy: 0.4874\n",
      "Epoch 11, CIFAR-10 Batch 1:  Loss:     0.9827 Validation Accuracy: 0.4888\n",
      "Epoch 12, CIFAR-10 Batch 1:  Loss:     0.9188 Validation Accuracy: 0.5112\n",
      "Epoch 13, CIFAR-10 Batch 1:  Loss:     0.8284 Validation Accuracy: 0.4956\n",
      "Epoch 14, CIFAR-10 Batch 1:  Loss:     0.7299 Validation Accuracy: 0.5056\n",
      "Epoch 15, CIFAR-10 Batch 1:  Loss:     0.6557 Validation Accuracy: 0.5246\n",
      "Epoch 16, CIFAR-10 Batch 1:  Loss:     0.6303 Validation Accuracy: 0.5138\n",
      "Epoch 17, CIFAR-10 Batch 1:  Loss:     0.6117 Validation Accuracy: 0.5212\n",
      "Epoch 18, CIFAR-10 Batch 1:  Loss:     0.5290 Validation Accuracy: 0.5226\n",
      "Epoch 19, CIFAR-10 Batch 1:  Loss:     0.5541 Validation Accuracy: 0.5136\n",
      "Epoch 20, CIFAR-10 Batch 1:  Loss:     0.4239 Validation Accuracy: 0.5252\n",
      "Epoch 21, CIFAR-10 Batch 1:  Loss:     0.4022 Validation Accuracy: 0.5274\n",
      "Epoch 22, CIFAR-10 Batch 1:  Loss:     0.4067 Validation Accuracy: 0.5186\n",
      "Epoch 23, CIFAR-10 Batch 1:  Loss:     0.3707 Validation Accuracy: 0.5310\n",
      "Epoch 24, CIFAR-10 Batch 1:  Loss:     0.3138 Validation Accuracy: 0.5322\n",
      "Epoch 25, CIFAR-10 Batch 1:  Loss:     0.4095 Validation Accuracy: 0.5214\n",
      "Epoch 26, CIFAR-10 Batch 1:  Loss:     0.2998 Validation Accuracy: 0.5298\n",
      "Epoch 27, CIFAR-10 Batch 1:  Loss:     0.2655 Validation Accuracy: 0.5286\n",
      "Epoch 28, CIFAR-10 Batch 1:  Loss:     0.2262 Validation Accuracy: 0.5218\n",
      "Epoch 29, CIFAR-10 Batch 1:  Loss:     0.2975 Validation Accuracy: 0.5176\n",
      "Epoch 30, CIFAR-10 Batch 1:  Loss:     0.2900 Validation Accuracy: 0.5146\n",
      "Epoch 31, CIFAR-10 Batch 1:  Loss:     0.2500 Validation Accuracy: 0.5114\n",
      "Epoch 32, CIFAR-10 Batch 1:  Loss:     0.2364 Validation Accuracy: 0.5032\n",
      "Epoch 33, CIFAR-10 Batch 1:  Loss:     0.2075 Validation Accuracy: 0.5106\n",
      "Epoch 34, CIFAR-10 Batch 1:  Loss:     0.2320 Validation Accuracy: 0.5146\n",
      "Epoch 35, CIFAR-10 Batch 1:  Loss:     0.1638 Validation Accuracy: 0.5170\n",
      "Epoch 36, CIFAR-10 Batch 1:  Loss:     0.1510 Validation Accuracy: 0.5224\n",
      "Epoch 37, CIFAR-10 Batch 1:  Loss:     0.1175 Validation Accuracy: 0.5242\n",
      "Epoch 38, CIFAR-10 Batch 1:  Loss:     0.1202 Validation Accuracy: 0.5220\n",
      "Epoch 39, CIFAR-10 Batch 1:  Loss:     0.1029 Validation Accuracy: 0.5188\n",
      "Epoch 40, CIFAR-10 Batch 1:  Loss:     0.1010 Validation Accuracy: 0.5262\n",
      "Epoch 41, CIFAR-10 Batch 1:  Loss:     0.0751 Validation Accuracy: 0.5288\n",
      "Epoch 42, CIFAR-10 Batch 1:  Loss:     0.0926 Validation Accuracy: 0.5210\n",
      "Epoch 43, CIFAR-10 Batch 1:  Loss:     0.0729 Validation Accuracy: 0.5220\n",
      "Epoch 44, CIFAR-10 Batch 1:  Loss:     0.0515 Validation Accuracy: 0.5228\n",
      "Epoch 45, CIFAR-10 Batch 1:  Loss:     0.0452 Validation Accuracy: 0.5236\n",
      "Epoch 46, CIFAR-10 Batch 1:  Loss:     0.0474 Validation Accuracy: 0.5302\n"
     ]
    }
   ],
   "source": [
    "\"\"\"\n",
    "DON'T MODIFY ANYTHING IN THIS CELL\n",
    "\"\"\"\n",
    "print('Checking the Training on a Single Batch...')\n",
    "with tf.Session() as sess:\n",
    "    # Initializing the variables\n",
    "    sess.run(tf.global_variables_initializer())\n",
    "    \n",
    "    # Training cycle\n",
    "    for epoch in range(epochs):\n",
    "        batch_i = 1\n",
    "        for batch_features, batch_labels in helper.load_preprocess_training_batch(batch_i, batch_size):\n",
    "            train_neural_network(sess, optimizer, keep_probability, batch_features, batch_labels)\n",
    "        print('Epoch {:>2}, CIFAR-10 Batch {}:  '.format(epoch + 1, batch_i), end='')\n",
    "        print_stats(sess, batch_features, batch_labels, cost, accuracy)"
   ]
  },
  {
   "cell_type": "markdown",
   "metadata": {},
   "source": [
    "### Fully Train the Model\n",
    "Now that you got a good accuracy with a single CIFAR-10 batch, try it with all five batches."
   ]
  },
  {
   "cell_type": "code",
   "execution_count": 29,
   "metadata": {
    "collapsed": false
   },
   "outputs": [
    {
     "name": "stdout",
     "output_type": "stream",
     "text": [
      "Training...\n",
      "Epoch  1, CIFAR-10 Batch 1:  Loss:     2.0955 Validation Accuracy: 0.2814\n",
      "Epoch  1, CIFAR-10 Batch 2:  Loss:     1.9226 Validation Accuracy: 0.3534\n",
      "Epoch  1, CIFAR-10 Batch 3:  Loss:     1.5707 Validation Accuracy: 0.3720\n",
      "Epoch  1, CIFAR-10 Batch 4:  Loss:     1.6449 Validation Accuracy: 0.4036\n",
      "Epoch  1, CIFAR-10 Batch 5:  Loss:     1.5929 Validation Accuracy: 0.4404\n",
      "Epoch  2, CIFAR-10 Batch 1:  Loss:     1.8299 Validation Accuracy: 0.4680\n",
      "Epoch  2, CIFAR-10 Batch 2:  Loss:     1.6051 Validation Accuracy: 0.4736\n",
      "Epoch  2, CIFAR-10 Batch 3:  Loss:     1.2044 Validation Accuracy: 0.4710\n",
      "Epoch  2, CIFAR-10 Batch 4:  Loss:     1.4278 Validation Accuracy: 0.4754\n",
      "Epoch  2, CIFAR-10 Batch 5:  Loss:     1.3398 Validation Accuracy: 0.4958\n",
      "Epoch  3, CIFAR-10 Batch 1:  Loss:     1.5034 Validation Accuracy: 0.5084\n",
      "Epoch  3, CIFAR-10 Batch 2:  Loss:     1.3295 Validation Accuracy: 0.5110\n",
      "Epoch  3, CIFAR-10 Batch 3:  Loss:     1.0112 Validation Accuracy: 0.5102\n",
      "Epoch  3, CIFAR-10 Batch 4:  Loss:     1.2177 Validation Accuracy: 0.5208\n",
      "Epoch  3, CIFAR-10 Batch 5:  Loss:     1.2191 Validation Accuracy: 0.5260\n",
      "Epoch  4, CIFAR-10 Batch 1:  Loss:     1.2853 Validation Accuracy: 0.5258\n",
      "Epoch  4, CIFAR-10 Batch 2:  Loss:     1.1250 Validation Accuracy: 0.5388\n",
      "Epoch  4, CIFAR-10 Batch 3:  Loss:     0.8705 Validation Accuracy: 0.5494\n",
      "Epoch  4, CIFAR-10 Batch 4:  Loss:     1.0831 Validation Accuracy: 0.5584\n",
      "Epoch  4, CIFAR-10 Batch 5:  Loss:     1.0902 Validation Accuracy: 0.5512\n",
      "Epoch  5, CIFAR-10 Batch 1:  Loss:     1.1118 Validation Accuracy: 0.5532\n",
      "Epoch  5, CIFAR-10 Batch 2:  Loss:     1.0260 Validation Accuracy: 0.5504\n",
      "Epoch  5, CIFAR-10 Batch 3:  Loss:     0.8062 Validation Accuracy: 0.5746\n",
      "Epoch  5, CIFAR-10 Batch 4:  Loss:     0.9055 Validation Accuracy: 0.5724\n",
      "Epoch  5, CIFAR-10 Batch 5:  Loss:     0.9231 Validation Accuracy: 0.5846\n",
      "Epoch  6, CIFAR-10 Batch 1:  Loss:     0.9768 Validation Accuracy: 0.5786\n",
      "Epoch  6, CIFAR-10 Batch 2:  Loss:     0.9212 Validation Accuracy: 0.5820\n",
      "Epoch  6, CIFAR-10 Batch 3:  Loss:     0.7204 Validation Accuracy: 0.5972\n",
      "Epoch  6, CIFAR-10 Batch 4:  Loss:     0.8881 Validation Accuracy: 0.5902\n",
      "Epoch  6, CIFAR-10 Batch 5:  Loss:     0.8229 Validation Accuracy: 0.6020\n",
      "Epoch  7, CIFAR-10 Batch 1:  Loss:     0.9010 Validation Accuracy: 0.5862\n",
      "Epoch  7, CIFAR-10 Batch 2:  Loss:     0.7861 Validation Accuracy: 0.6050\n",
      "Epoch  7, CIFAR-10 Batch 3:  Loss:     0.6715 Validation Accuracy: 0.6002\n",
      "Epoch  7, CIFAR-10 Batch 4:  Loss:     0.7644 Validation Accuracy: 0.6200\n",
      "Epoch  7, CIFAR-10 Batch 5:  Loss:     0.8256 Validation Accuracy: 0.6050\n",
      "Epoch  8, CIFAR-10 Batch 1:  Loss:     0.8433 Validation Accuracy: 0.6080\n",
      "Epoch  8, CIFAR-10 Batch 2:  Loss:     0.7237 Validation Accuracy: 0.6160\n",
      "Epoch  8, CIFAR-10 Batch 3:  Loss:     0.5860 Validation Accuracy: 0.6200\n",
      "Epoch  8, CIFAR-10 Batch 4:  Loss:     0.6832 Validation Accuracy: 0.6218\n",
      "Epoch  8, CIFAR-10 Batch 5:  Loss:     0.6554 Validation Accuracy: 0.6294\n",
      "Epoch  9, CIFAR-10 Batch 1:  Loss:     0.8387 Validation Accuracy: 0.6252\n",
      "Epoch  9, CIFAR-10 Batch 2:  Loss:     0.6531 Validation Accuracy: 0.6316\n",
      "Epoch  9, CIFAR-10 Batch 3:  Loss:     0.5917 Validation Accuracy: 0.6214\n",
      "Epoch  9, CIFAR-10 Batch 4:  Loss:     0.6314 Validation Accuracy: 0.6386\n",
      "Epoch  9, CIFAR-10 Batch 5:  Loss:     0.6151 Validation Accuracy: 0.6322\n",
      "Epoch 10, CIFAR-10 Batch 1:  Loss:     0.8076 Validation Accuracy: 0.6332\n",
      "Epoch 10, CIFAR-10 Batch 2:  Loss:     0.6416 Validation Accuracy: 0.6372\n",
      "Epoch 10, CIFAR-10 Batch 3:  Loss:     0.5684 Validation Accuracy: 0.6014\n",
      "Epoch 10, CIFAR-10 Batch 4:  Loss:     0.6110 Validation Accuracy: 0.6370\n",
      "Epoch 10, CIFAR-10 Batch 5:  Loss:     0.5247 Validation Accuracy: 0.6296\n",
      "Epoch 11, CIFAR-10 Batch 1:  Loss:     0.7112 Validation Accuracy: 0.6394\n",
      "Epoch 11, CIFAR-10 Batch 2:  Loss:     0.5461 Validation Accuracy: 0.6362\n",
      "Epoch 11, CIFAR-10 Batch 3:  Loss:     0.4497 Validation Accuracy: 0.6446\n",
      "Epoch 11, CIFAR-10 Batch 4:  Loss:     0.4980 Validation Accuracy: 0.6550\n",
      "Epoch 11, CIFAR-10 Batch 5:  Loss:     0.4565 Validation Accuracy: 0.6276\n",
      "Epoch 12, CIFAR-10 Batch 1:  Loss:     0.6210 Validation Accuracy: 0.6564\n",
      "Epoch 12, CIFAR-10 Batch 2:  Loss:     0.4837 Validation Accuracy: 0.6456\n",
      "Epoch 12, CIFAR-10 Batch 3:  Loss:     0.4427 Validation Accuracy: 0.6494\n",
      "Epoch 12, CIFAR-10 Batch 4:  Loss:     0.5200 Validation Accuracy: 0.6520\n",
      "Epoch 12, CIFAR-10 Batch 5:  Loss:     0.3858 Validation Accuracy: 0.6314\n",
      "Epoch 13, CIFAR-10 Batch 1:  Loss:     0.6268 Validation Accuracy: 0.6496\n",
      "Epoch 13, CIFAR-10 Batch 2:  Loss:     0.4669 Validation Accuracy: 0.6510\n",
      "Epoch 13, CIFAR-10 Batch 3:  Loss:     0.3993 Validation Accuracy: 0.6406\n",
      "Epoch 13, CIFAR-10 Batch 4:  Loss:     0.4138 Validation Accuracy: 0.6646\n",
      "Epoch 13, CIFAR-10 Batch 5:  Loss:     0.3987 Validation Accuracy: 0.6418\n",
      "Epoch 14, CIFAR-10 Batch 1:  Loss:     0.5634 Validation Accuracy: 0.6522\n",
      "Epoch 14, CIFAR-10 Batch 2:  Loss:     0.4478 Validation Accuracy: 0.6562\n",
      "Epoch 14, CIFAR-10 Batch 3:  Loss:     0.3803 Validation Accuracy: 0.6564\n",
      "Epoch 14, CIFAR-10 Batch 4:  Loss:     0.3529 Validation Accuracy: 0.6542\n",
      "Epoch 14, CIFAR-10 Batch 5:  Loss:     0.3690 Validation Accuracy: 0.6476\n",
      "Epoch 15, CIFAR-10 Batch 1:  Loss:     0.4729 Validation Accuracy: 0.6566\n",
      "Epoch 15, CIFAR-10 Batch 2:  Loss:     0.4374 Validation Accuracy: 0.6544\n",
      "Epoch 15, CIFAR-10 Batch 3:  Loss:     0.3865 Validation Accuracy: 0.6536\n",
      "Epoch 15, CIFAR-10 Batch 4:  Loss:     0.3436 Validation Accuracy: 0.6594\n",
      "Epoch 15, CIFAR-10 Batch 5:  Loss:     0.3269 Validation Accuracy: 0.6498\n",
      "Epoch 16, CIFAR-10 Batch 1:  Loss:     0.4682 Validation Accuracy: 0.6656\n",
      "Epoch 16, CIFAR-10 Batch 2:  Loss:     0.3617 Validation Accuracy: 0.6652\n",
      "Epoch 16, CIFAR-10 Batch 3:  Loss:     0.4143 Validation Accuracy: 0.6502\n",
      "Epoch 16, CIFAR-10 Batch 4:  Loss:     0.3346 Validation Accuracy: 0.6692\n",
      "Epoch 16, CIFAR-10 Batch 5:  Loss:     0.3014 Validation Accuracy: 0.6592\n",
      "Epoch 17, CIFAR-10 Batch 1:  Loss:     0.4174 Validation Accuracy: 0.6712\n",
      "Epoch 17, CIFAR-10 Batch 2:  Loss:     0.2899 Validation Accuracy: 0.6684\n",
      "Epoch 17, CIFAR-10 Batch 3:  Loss:     0.3433 Validation Accuracy: 0.6748\n",
      "Epoch 17, CIFAR-10 Batch 4:  Loss:     0.3227 Validation Accuracy: 0.6750\n",
      "Epoch 17, CIFAR-10 Batch 5:  Loss:     0.2789 Validation Accuracy: 0.6602\n",
      "Epoch 18, CIFAR-10 Batch 1:  Loss:     0.4044 Validation Accuracy: 0.6724\n",
      "Epoch 18, CIFAR-10 Batch 2:  Loss:     0.3038 Validation Accuracy: 0.6748\n",
      "Epoch 18, CIFAR-10 Batch 3:  Loss:     0.3626 Validation Accuracy: 0.6662\n",
      "Epoch 18, CIFAR-10 Batch 4:  Loss:     0.3111 Validation Accuracy: 0.6670\n",
      "Epoch 18, CIFAR-10 Batch 5:  Loss:     0.2548 Validation Accuracy: 0.6746\n",
      "Epoch 19, CIFAR-10 Batch 1:  Loss:     0.3594 Validation Accuracy: 0.6738\n",
      "Epoch 19, CIFAR-10 Batch 2:  Loss:     0.2786 Validation Accuracy: 0.6822\n",
      "Epoch 19, CIFAR-10 Batch 3:  Loss:     0.2920 Validation Accuracy: 0.6624\n",
      "Epoch 19, CIFAR-10 Batch 4:  Loss:     0.2547 Validation Accuracy: 0.6832\n",
      "Epoch 19, CIFAR-10 Batch 5:  Loss:     0.2331 Validation Accuracy: 0.6738\n",
      "Epoch 20, CIFAR-10 Batch 1:  Loss:     0.3198 Validation Accuracy: 0.6760\n",
      "Epoch 20, CIFAR-10 Batch 2:  Loss:     0.2303 Validation Accuracy: 0.6796\n",
      "Epoch 20, CIFAR-10 Batch 3:  Loss:     0.2418 Validation Accuracy: 0.6728\n",
      "Epoch 20, CIFAR-10 Batch 4:  Loss:     0.3037 Validation Accuracy: 0.6812\n",
      "Epoch 20, CIFAR-10 Batch 5:  Loss:     0.2279 Validation Accuracy: 0.6650\n",
      "Epoch 21, CIFAR-10 Batch 1:  Loss:     0.3059 Validation Accuracy: 0.6784\n",
      "Epoch 21, CIFAR-10 Batch 2:  Loss:     0.2125 Validation Accuracy: 0.6776\n",
      "Epoch 21, CIFAR-10 Batch 3:  Loss:     0.2768 Validation Accuracy: 0.6754\n",
      "Epoch 21, CIFAR-10 Batch 4:  Loss:     0.2519 Validation Accuracy: 0.6724\n",
      "Epoch 21, CIFAR-10 Batch 5:  Loss:     0.2073 Validation Accuracy: 0.6700\n",
      "Epoch 22, CIFAR-10 Batch 1:  Loss:     0.3004 Validation Accuracy: 0.6636\n",
      "Epoch 22, CIFAR-10 Batch 2:  Loss:     0.2234 Validation Accuracy: 0.6852\n",
      "Epoch 22, CIFAR-10 Batch 3:  Loss:     0.1816 Validation Accuracy: 0.6766\n",
      "Epoch 22, CIFAR-10 Batch 4:  Loss:     0.2447 Validation Accuracy: 0.6740\n",
      "Epoch 22, CIFAR-10 Batch 5:  Loss:     0.2294 Validation Accuracy: 0.6632\n",
      "Epoch 23, CIFAR-10 Batch 1:  Loss:     0.3261 Validation Accuracy: 0.6680\n",
      "Epoch 23, CIFAR-10 Batch 2:  Loss:     0.2196 Validation Accuracy: 0.6734\n",
      "Epoch 23, CIFAR-10 Batch 3:  Loss:     0.1944 Validation Accuracy: 0.6828\n",
      "Epoch 23, CIFAR-10 Batch 4:  Loss:     0.2413 Validation Accuracy: 0.6674\n",
      "Epoch 23, CIFAR-10 Batch 5:  Loss:     0.1908 Validation Accuracy: 0.6788\n",
      "Epoch 24, CIFAR-10 Batch 1:  Loss:     0.3478 Validation Accuracy: 0.6614\n",
      "Epoch 24, CIFAR-10 Batch 2:  Loss:     0.2292 Validation Accuracy: 0.6722\n",
      "Epoch 24, CIFAR-10 Batch 3:  Loss:     0.2170 Validation Accuracy: 0.6786\n",
      "Epoch 24, CIFAR-10 Batch 4:  Loss:     0.1960 Validation Accuracy: 0.6814\n",
      "Epoch 24, CIFAR-10 Batch 5:  Loss:     0.2609 Validation Accuracy: 0.6668\n",
      "Epoch 25, CIFAR-10 Batch 1:  Loss:     0.2721 Validation Accuracy: 0.6810\n",
      "Epoch 25, CIFAR-10 Batch 2:  Loss:     0.2059 Validation Accuracy: 0.6830\n",
      "Epoch 25, CIFAR-10 Batch 3:  Loss:     0.1857 Validation Accuracy: 0.6758\n",
      "Epoch 25, CIFAR-10 Batch 4:  Loss:     0.1986 Validation Accuracy: 0.6800\n",
      "Epoch 25, CIFAR-10 Batch 5:  Loss:     0.2030 Validation Accuracy: 0.6752\n",
      "Epoch 26, CIFAR-10 Batch 1:  Loss:     0.2408 Validation Accuracy: 0.6772\n",
      "Epoch 26, CIFAR-10 Batch 2:  Loss:     0.2176 Validation Accuracy: 0.6698\n",
      "Epoch 26, CIFAR-10 Batch 3:  Loss:     0.1423 Validation Accuracy: 0.6828\n",
      "Epoch 26, CIFAR-10 Batch 4:  Loss:     0.2272 Validation Accuracy: 0.6810\n",
      "Epoch 26, CIFAR-10 Batch 5:  Loss:     0.1944 Validation Accuracy: 0.6738\n",
      "Epoch 27, CIFAR-10 Batch 1:  Loss:     0.2563 Validation Accuracy: 0.6590\n",
      "Epoch 27, CIFAR-10 Batch 2:  Loss:     0.1702 Validation Accuracy: 0.6760\n",
      "Epoch 27, CIFAR-10 Batch 3:  Loss:     0.1679 Validation Accuracy: 0.6710\n",
      "Epoch 27, CIFAR-10 Batch 4:  Loss:     0.2004 Validation Accuracy: 0.6852\n",
      "Epoch 27, CIFAR-10 Batch 5:  Loss:     0.2378 Validation Accuracy: 0.6596\n",
      "Epoch 28, CIFAR-10 Batch 1:  Loss:     0.1933 Validation Accuracy: 0.6792\n",
      "Epoch 28, CIFAR-10 Batch 2:  Loss:     0.1720 Validation Accuracy: 0.6818\n",
      "Epoch 28, CIFAR-10 Batch 3:  Loss:     0.1281 Validation Accuracy: 0.6714\n",
      "Epoch 28, CIFAR-10 Batch 4:  Loss:     0.1597 Validation Accuracy: 0.6862\n",
      "Epoch 28, CIFAR-10 Batch 5:  Loss:     0.2121 Validation Accuracy: 0.6570\n",
      "Epoch 29, CIFAR-10 Batch 1:  Loss:     0.1755 Validation Accuracy: 0.6776\n",
      "Epoch 29, CIFAR-10 Batch 2:  Loss:     0.1597 Validation Accuracy: 0.6818\n",
      "Epoch 29, CIFAR-10 Batch 3:  Loss:     0.1487 Validation Accuracy: 0.6630\n",
      "Epoch 29, CIFAR-10 Batch 4:  Loss:     0.1782 Validation Accuracy: 0.6764\n",
      "Epoch 29, CIFAR-10 Batch 5:  Loss:     0.1543 Validation Accuracy: 0.6704\n",
      "Epoch 30, CIFAR-10 Batch 1:  Loss:     0.1623 Validation Accuracy: 0.6886\n",
      "Epoch 30, CIFAR-10 Batch 2:  Loss:     0.1663 Validation Accuracy: 0.6844\n",
      "Epoch 30, CIFAR-10 Batch 3:  Loss:     0.1301 Validation Accuracy: 0.6698\n",
      "Epoch 30, CIFAR-10 Batch 4:  Loss:     0.2035 Validation Accuracy: 0.6764\n",
      "Epoch 30, CIFAR-10 Batch 5:  Loss:     0.1438 Validation Accuracy: 0.6752\n",
      "Epoch 31, CIFAR-10 Batch 1:  Loss:     0.1847 Validation Accuracy: 0.6764\n",
      "Epoch 31, CIFAR-10 Batch 2:  Loss:     0.1759 Validation Accuracy: 0.6794\n",
      "Epoch 31, CIFAR-10 Batch 3:  Loss:     0.1286 Validation Accuracy: 0.6678\n",
      "Epoch 31, CIFAR-10 Batch 4:  Loss:     0.1668 Validation Accuracy: 0.6758\n",
      "Epoch 31, CIFAR-10 Batch 5:  Loss:     0.1483 Validation Accuracy: 0.6730\n",
      "Epoch 32, CIFAR-10 Batch 1:  Loss:     0.1260 Validation Accuracy: 0.6710\n",
      "Epoch 32, CIFAR-10 Batch 2:  Loss:     0.1901 Validation Accuracy: 0.6818\n",
      "Epoch 32, CIFAR-10 Batch 3:  Loss:     0.1298 Validation Accuracy: 0.6684\n",
      "Epoch 32, CIFAR-10 Batch 4:  Loss:     0.2069 Validation Accuracy: 0.6714\n",
      "Epoch 32, CIFAR-10 Batch 5:  Loss:     0.1642 Validation Accuracy: 0.6580\n",
      "Epoch 33, CIFAR-10 Batch 1:  Loss:     0.1410 Validation Accuracy: 0.6916\n",
      "Epoch 33, CIFAR-10 Batch 2:  Loss:     0.1473 Validation Accuracy: 0.6804\n",
      "Epoch 33, CIFAR-10 Batch 3:  Loss:     0.1096 Validation Accuracy: 0.6880\n",
      "Epoch 33, CIFAR-10 Batch 4:  Loss:     0.1477 Validation Accuracy: 0.6808\n",
      "Epoch 33, CIFAR-10 Batch 5:  Loss:     0.1240 Validation Accuracy: 0.6828\n",
      "Epoch 34, CIFAR-10 Batch 1:  Loss:     0.1567 Validation Accuracy: 0.6730\n",
      "Epoch 34, CIFAR-10 Batch 2:  Loss:     0.1219 Validation Accuracy: 0.6770\n",
      "Epoch 34, CIFAR-10 Batch 3:  Loss:     0.1158 Validation Accuracy: 0.6772\n",
      "Epoch 34, CIFAR-10 Batch 4:  Loss:     0.1516 Validation Accuracy: 0.6796\n",
      "Epoch 34, CIFAR-10 Batch 5:  Loss:     0.1226 Validation Accuracy: 0.6844\n",
      "Epoch 35, CIFAR-10 Batch 1:  Loss:     0.1581 Validation Accuracy: 0.6798\n",
      "Epoch 35, CIFAR-10 Batch 2:  Loss:     0.1266 Validation Accuracy: 0.6802\n",
      "Epoch 35, CIFAR-10 Batch 3:  Loss:     0.1291 Validation Accuracy: 0.6658\n",
      "Epoch 35, CIFAR-10 Batch 4:  Loss:     0.2544 Validation Accuracy: 0.6652\n",
      "Epoch 35, CIFAR-10 Batch 5:  Loss:     0.1127 Validation Accuracy: 0.6896\n",
      "Epoch 36, CIFAR-10 Batch 1:  Loss:     0.1273 Validation Accuracy: 0.6934\n",
      "Epoch 36, CIFAR-10 Batch 2:  Loss:     0.1443 Validation Accuracy: 0.6724\n",
      "Epoch 36, CIFAR-10 Batch 3:  Loss:     0.1512 Validation Accuracy: 0.6736\n",
      "Epoch 36, CIFAR-10 Batch 4:  Loss:     0.1112 Validation Accuracy: 0.6876\n",
      "Epoch 36, CIFAR-10 Batch 5:  Loss:     0.1240 Validation Accuracy: 0.6740\n",
      "Epoch 37, CIFAR-10 Batch 1:  Loss:     0.1175 Validation Accuracy: 0.6900\n",
      "Epoch 37, CIFAR-10 Batch 2:  Loss:     0.1203 Validation Accuracy: 0.6764\n",
      "Epoch 37, CIFAR-10 Batch 3:  Loss:     0.1097 Validation Accuracy: 0.6698\n",
      "Epoch 37, CIFAR-10 Batch 4:  Loss:     0.1486 Validation Accuracy: 0.6682\n",
      "Epoch 37, CIFAR-10 Batch 5:  Loss:     0.1062 Validation Accuracy: 0.6816\n",
      "Epoch 38, CIFAR-10 Batch 1:  Loss:     0.1254 Validation Accuracy: 0.6838\n",
      "Epoch 38, CIFAR-10 Batch 2:  Loss:     0.1057 Validation Accuracy: 0.6888\n",
      "Epoch 38, CIFAR-10 Batch 3:  Loss:     0.1175 Validation Accuracy: 0.6830\n",
      "Epoch 38, CIFAR-10 Batch 4:  Loss:     0.0967 Validation Accuracy: 0.6846\n",
      "Epoch 38, CIFAR-10 Batch 5:  Loss:     0.1093 Validation Accuracy: 0.6754\n",
      "Epoch 39, CIFAR-10 Batch 1:  Loss:     0.1092 Validation Accuracy: 0.6810\n",
      "Epoch 39, CIFAR-10 Batch 2:  Loss:     0.0963 Validation Accuracy: 0.6788\n",
      "Epoch 39, CIFAR-10 Batch 3:  Loss:     0.0924 Validation Accuracy: 0.6764\n",
      "Epoch 39, CIFAR-10 Batch 4:  Loss:     0.1169 Validation Accuracy: 0.6756\n",
      "Epoch 39, CIFAR-10 Batch 5:  Loss:     0.0837 Validation Accuracy: 0.6756\n",
      "Epoch 40, CIFAR-10 Batch 1:  Loss:     0.0922 Validation Accuracy: 0.6840\n",
      "Epoch 40, CIFAR-10 Batch 2:  Loss:     0.1231 Validation Accuracy: 0.6806\n",
      "Epoch 40, CIFAR-10 Batch 3:  Loss:     0.0836 Validation Accuracy: 0.6874\n",
      "Epoch 40, CIFAR-10 Batch 4:  Loss:     0.1114 Validation Accuracy: 0.6716\n",
      "Epoch 40, CIFAR-10 Batch 5:  Loss:     0.0680 Validation Accuracy: 0.6778\n",
      "Epoch 41, CIFAR-10 Batch 1:  Loss:     0.0918 Validation Accuracy: 0.6824\n",
      "Epoch 41, CIFAR-10 Batch 2:  Loss:     0.1057 Validation Accuracy: 0.6748\n",
      "Epoch 41, CIFAR-10 Batch 3:  Loss:     0.0640 Validation Accuracy: 0.6966\n",
      "Epoch 41, CIFAR-10 Batch 4:  Loss:     0.0987 Validation Accuracy: 0.6760\n",
      "Epoch 41, CIFAR-10 Batch 5:  Loss:     0.0772 Validation Accuracy: 0.6766\n",
      "Epoch 42, CIFAR-10 Batch 1:  Loss:     0.1103 Validation Accuracy: 0.6760\n",
      "Epoch 42, CIFAR-10 Batch 2:  Loss:     0.0868 Validation Accuracy: 0.6912\n",
      "Epoch 42, CIFAR-10 Batch 3:  Loss:     0.0866 Validation Accuracy: 0.6942\n",
      "Epoch 42, CIFAR-10 Batch 4:  Loss:     0.0846 Validation Accuracy: 0.6786\n",
      "Epoch 42, CIFAR-10 Batch 5:  Loss:     0.0796 Validation Accuracy: 0.6856\n",
      "Epoch 43, CIFAR-10 Batch 1:  Loss:     0.1194 Validation Accuracy: 0.6744\n",
      "Epoch 43, CIFAR-10 Batch 2:  Loss:     0.1169 Validation Accuracy: 0.6820\n",
      "Epoch 43, CIFAR-10 Batch 3:  Loss:     0.0668 Validation Accuracy: 0.6936\n",
      "Epoch 43, CIFAR-10 Batch 4:  Loss:     0.0749 Validation Accuracy: 0.6806\n",
      "Epoch 43, CIFAR-10 Batch 5:  Loss:     0.0683 Validation Accuracy: 0.6848\n",
      "Epoch 44, CIFAR-10 Batch 1:  Loss:     0.0854 Validation Accuracy: 0.6814\n",
      "Epoch 44, CIFAR-10 Batch 2:  Loss:     0.0929 Validation Accuracy: 0.6862\n",
      "Epoch 44, CIFAR-10 Batch 3:  Loss:     0.0752 Validation Accuracy: 0.6930\n",
      "Epoch 44, CIFAR-10 Batch 4:  Loss:     0.1112 Validation Accuracy: 0.6690\n",
      "Epoch 44, CIFAR-10 Batch 5:  Loss:     0.0679 Validation Accuracy: 0.6774\n",
      "Epoch 45, CIFAR-10 Batch 1:  Loss:     0.0732 Validation Accuracy: 0.6792\n",
      "Epoch 45, CIFAR-10 Batch 2:  Loss:     0.1020 Validation Accuracy: 0.6846\n",
      "Epoch 45, CIFAR-10 Batch 3:  Loss:     0.0495 Validation Accuracy: 0.6874\n",
      "Epoch 45, CIFAR-10 Batch 4:  Loss:     0.1162 Validation Accuracy: 0.6846\n",
      "Epoch 45, CIFAR-10 Batch 5:  Loss:     0.0734 Validation Accuracy: 0.6742\n",
      "Epoch 46, CIFAR-10 Batch 1:  Loss:     0.0638 Validation Accuracy: 0.6962\n",
      "Epoch 46, CIFAR-10 Batch 2:  Loss:     0.1067 Validation Accuracy: 0.6670\n",
      "Epoch 46, CIFAR-10 Batch 3:  Loss:     0.0654 Validation Accuracy: 0.6856\n",
      "Epoch 46, CIFAR-10 Batch 4:  Loss:     0.0950 Validation Accuracy: 0.6706\n",
      "Epoch 46, CIFAR-10 Batch 5:  Loss:     0.0903 Validation Accuracy: 0.6756\n",
      "Epoch 47, CIFAR-10 Batch 1:  Loss:     0.1157 Validation Accuracy: 0.6862\n",
      "Epoch 47, CIFAR-10 Batch 2:  Loss:     0.0785 Validation Accuracy: 0.6766\n",
      "Epoch 47, CIFAR-10 Batch 3:  Loss:     0.0508 Validation Accuracy: 0.6820\n",
      "Epoch 47, CIFAR-10 Batch 4:  Loss:     0.1294 Validation Accuracy: 0.6652\n",
      "Epoch 47, CIFAR-10 Batch 5:  Loss:     0.0460 Validation Accuracy: 0.6848\n",
      "Epoch 48, CIFAR-10 Batch 1:  Loss:     0.1058 Validation Accuracy: 0.6840\n",
      "Epoch 48, CIFAR-10 Batch 2:  Loss:     0.0847 Validation Accuracy: 0.6722\n",
      "Epoch 48, CIFAR-10 Batch 3:  Loss:     0.0575 Validation Accuracy: 0.6922\n",
      "Epoch 48, CIFAR-10 Batch 4:  Loss:     0.1089 Validation Accuracy: 0.6734\n",
      "Epoch 48, CIFAR-10 Batch 5:  Loss:     0.0464 Validation Accuracy: 0.6780\n",
      "Epoch 49, CIFAR-10 Batch 1:  Loss:     0.1041 Validation Accuracy: 0.6828\n",
      "Epoch 49, CIFAR-10 Batch 2:  Loss:     0.0915 Validation Accuracy: 0.6628\n",
      "Epoch 49, CIFAR-10 Batch 3:  Loss:     0.0707 Validation Accuracy: 0.6896\n",
      "Epoch 49, CIFAR-10 Batch 4:  Loss:     0.0962 Validation Accuracy: 0.6752\n",
      "Epoch 49, CIFAR-10 Batch 5:  Loss:     0.0420 Validation Accuracy: 0.6704\n",
      "Epoch 50, CIFAR-10 Batch 1:  Loss:     0.1154 Validation Accuracy: 0.6720\n",
      "Epoch 50, CIFAR-10 Batch 2:  Loss:     0.1029 Validation Accuracy: 0.6638\n",
      "Epoch 50, CIFAR-10 Batch 3:  Loss:     0.0568 Validation Accuracy: 0.6868\n",
      "Epoch 50, CIFAR-10 Batch 4:  Loss:     0.0653 Validation Accuracy: 0.6774\n",
      "Epoch 50, CIFAR-10 Batch 5:  Loss:     0.0798 Validation Accuracy: 0.6750\n"
     ]
    }
   ],
   "source": [
    "\"\"\"\n",
    "DON'T MODIFY ANYTHING IN THIS CELL\n",
    "\"\"\"\n",
    "save_model_path = './image_classification'\n",
    "\n",
    "print('Training...')\n",
    "with tf.Session() as sess:\n",
    "    # Initializing the variables\n",
    "    sess.run(tf.global_variables_initializer())\n",
    "    \n",
    "    # Training cycle\n",
    "    for epoch in range(epochs):\n",
    "        # Loop over all batches\n",
    "        n_batches = 5\n",
    "        for batch_i in range(1, n_batches + 1):\n",
    "            for batch_features, batch_labels in helper.load_preprocess_training_batch(batch_i, batch_size):\n",
    "                train_neural_network(sess, optimizer, keep_probability, batch_features, batch_labels)\n",
    "            print('Epoch {:>2}, CIFAR-10 Batch {}:  '.format(epoch + 1, batch_i), end='')\n",
    "            print_stats(sess, batch_features, batch_labels, cost, accuracy)\n",
    "            \n",
    "    # Save Model\n",
    "    saver = tf.train.Saver()\n",
    "    save_path = saver.save(sess, save_model_path)"
   ]
  },
  {
   "cell_type": "markdown",
   "metadata": {},
   "source": [
    "# Checkpoint\n",
    "The model has been saved to disk.\n",
    "## Test Model\n",
    "Test your model against the test dataset.  This will be your final accuracy. You should have an accuracy greater than 50%. If you don't, keep tweaking the model architecture and parameters."
   ]
  },
  {
   "cell_type": "code",
   "execution_count": 31,
   "metadata": {
    "collapsed": false
   },
   "outputs": [
    {
     "name": "stdout",
     "output_type": "stream",
     "text": [
      "Testing Accuracy: 0.6777096518987342\n",
      "\n"
     ]
    },
    {
     "data": {
      "image/png": "[encoded data removed]",
      "text/plain": [
       "<matplotlib.figure.Figure at 0x3e85f76dd8>"
      ]
     },
     "metadata": {
      "image/png": {
       "height": 319,
       "width": 355
      }
     },
     "output_type": "display_data"
    }
   ],
   "source": [
    "\"\"\"\n",
    "DON'T MODIFY ANYTHING IN THIS CELL\n",
    "\"\"\"\n",
    "%matplotlib inline\n",
    "%config InlineBackend.figure_format = 'retina'\n",
    "\n",
    "import tensorflow as tf\n",
    "import pickle\n",
    "import helper\n",
    "import random\n",
    "\n",
    "# Set batch size if not already set\n",
    "try:\n",
    "    if batch_size:\n",
    "        pass\n",
    "except NameError:\n",
    "    batch_size = 64\n",
    "\n",
    "save_model_path = './image_classification'\n",
    "n_samples = 4\n",
    "top_n_predictions = 3\n",
    "\n",
    "def test_model():\n",
    "    \"\"\"\n",
    "    Test the saved model against the test dataset\n",
    "    \"\"\"\n",
    "\n",
    "    test_features, test_labels = pickle.load(open('preprocess_training.p', mode='rb'))\n",
    "    loaded_graph = tf.Graph()\n",
    "\n",
    "    with tf.Session(graph=loaded_graph) as sess:\n",
    "        # Load model\n",
    "        loader = tf.train.import_meta_graph(save_model_path + '.meta')\n",
    "        loader.restore(sess, save_model_path)\n",
    "\n",
    "        # Get Tensors from loaded model\n",
    "        loaded_x = loaded_graph.get_tensor_by_name('x:0')\n",
    "        loaded_y = loaded_graph.get_tensor_by_name('y:0')\n",
    "        loaded_keep_prob = loaded_graph.get_tensor_by_name('keep_prob:0')\n",
    "        loaded_logits = loaded_graph.get_tensor_by_name('logits:0')\n",
    "        loaded_acc = loaded_graph.get_tensor_by_name('accuracy:0')\n",
    "        \n",
    "        # Get accuracy in batches for memory limitations\n",
    "        test_batch_acc_total = 0\n",
    "        test_batch_count = 0\n",
    "        \n",
    "        for train_feature_batch, train_label_batch in helper.batch_features_labels(test_features, test_labels, batch_size):\n",
    "            test_batch_acc_total += sess.run(\n",
    "                loaded_acc,\n",
    "                feed_dict={loaded_x: train_feature_batch, loaded_y: train_label_batch, loaded_keep_prob: 1.0})\n",
    "            test_batch_count += 1\n",
    "\n",
    "        print('Testing Accuracy: {}\\n'.format(test_batch_acc_total/test_batch_count))\n",
    "\n",
    "        # Print Random Samples\n",
    "        random_test_features, random_test_labels = tuple(zip(*random.sample(list(zip(test_features, test_labels)), n_samples)))\n",
    "        random_test_predictions = sess.run(\n",
    "            tf.nn.top_k(tf.nn.softmax(loaded_logits), top_n_predictions),\n",
    "            feed_dict={loaded_x: random_test_features, loaded_y: random_test_labels, loaded_keep_prob: 1.0})\n",
    "        helper.display_image_predictions(random_test_features, random_test_labels, random_test_predictions)\n",
    "\n",
    "\n",
    "test_model()"
   ]
  },
  {
   "cell_type": "markdown",
   "metadata": {},
   "source": [
    "## Why 50-70% Accuracy?\n",
    "You might be wondering why you can't get an accuracy any higher. First things first, 50% isn't bad for a simple CNN.  Pure guessing would get you 10% accuracy. However, you might notice people are getting scores [well above 70%](http://rodrigob.github.io/are_we_there_yet/build/classification_datasets_results.html#43494641522d3130).  That's because we haven't taught you all there is to know about neural networks. We still need to cover a few more techniques.\n",
    "## Submitting This Project\n",
    "When submitting this project, make sure to run all the cells before saving the notebook.  Save the notebook file as \"dlnd_image_classification.ipynb\" and save it as a HTML file under \"File\" -> \"Download as\".  Include the \"helper.py\" and \"problem_unittests.py\" files in your submission."
   ]
  },
  {
   "cell_type": "code",
   "execution_count": null,
   "metadata": {
    "collapsed": true
   },
   "outputs": [],
   "source": []
  }
 ],
 "metadata": {
  "kernelspec": {
   "display_name": "Python 3",
   "language": "python",
   "name": "python3"
  },
  "language_info": {
   "codemirror_mode": {
    "name": "ipython",
    "version": 3
   },
   "file_extension": ".py",
   "mimetype": "text/x-python",
   "name": "python",
   "nbconvert_exporter": "python",
   "pygments_lexer": "ipython3",
   "version": "3.5.3"
  }
 },
 "nbformat": 4,
 "nbformat_minor": 0
}
